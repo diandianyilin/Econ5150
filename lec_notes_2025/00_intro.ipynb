{
 "cells": [
  {
   "cell_type": "markdown",
   "metadata": {
    "slideshow": {
     "slide_type": "slide"
    }
   },
   "source": [
    "# Introduction to Econ5150\n"
   ]
  },
  {
   "cell_type": "markdown",
   "metadata": {
    "slideshow": {
     "slide_type": "slide"
    }
   },
   "source": [
    "## Scientific Reasoning\n",
    "\n",
    "<div>\n",
    "<img src=\"https://github.com/zhentaoshi/Econ5121ABC/blob/main/fig/The_School_of_Athens.jpg?raw=true\" alt=\"Course Image\" width=\"800px\">\n",
    "</div>\n"
   ]
  },
  {
   "cell_type": "markdown",
   "metadata": {
    "slideshow": {
     "slide_type": "slide"
    }
   },
   "source": [
    "## Econometrics at Crossroad\n",
    "\n",
    "\n",
    "<div>\n",
    "<img src=\"https://github.com/zhentaoshi/Econ5121ABC/blob/main/fig/30hill.jpg?raw=true\" alt=\"Course Image\" width=\"800px\">\n",
    "</div>\n"
   ]
  },
  {
   "cell_type": "markdown",
   "metadata": {
    "slideshow": {
     "slide_type": "slide"
    }
   },
   "source": [
    "## Contents\n",
    "\n",
    "* Review of linear regressions\n",
    "* Causal inference\n",
    "* Maximum likelihood\n",
    "* Limited dependent variables\n",
    "* Generalized method of moments\n",
    "* Quantile regressions\n",
    "* Numerical optimization\n",
    "* High dimensional linear regressions: shrinkage estimation\n",
    "* High dimensional nonlinear regressions: machine learning\n",
    "* Time series\n",
    "* Panel data"
   ]
  },
  {
   "cell_type": "markdown",
   "metadata": {},
   "source": []
  }
 ],
 "metadata": {
  "language_info": {
   "name": "python"
  }
 },
 "nbformat": 4,
 "nbformat_minor": 2
}
