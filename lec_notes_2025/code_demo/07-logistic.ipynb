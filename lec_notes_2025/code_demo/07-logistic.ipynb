{
 "cells": [
  {
   "cell_type": "markdown",
   "id": "9a1e0667",
   "metadata": {
    "id": "dI7NrARNqfHQ",
    "papermill": {
     "duration": 0.007355,
     "end_time": "2024-11-11T03:16:20.591902",
     "exception": false,
     "start_time": "2024-11-11T03:16:20.584547",
     "status": "completed"
    },
    "tags": []
   },
   "source": [
    "# Logistic Regression\n",
    "\n",
    "This is an example of logistic regression prepared for **Econ5150**. \n",
    "\n",
    "We demonstrate this method with a real-world bank marketing dataset. Logistic regression helps us understand the probability of a certain outcome (in this case, customer response) based on various features.\n"
   ]
  },
  {
   "cell_type": "markdown",
   "id": "62c338a1",
   "metadata": {
    "id": "wUVhZBYLAqMh",
    "papermill": {
     "duration": 0.006137,
     "end_time": "2024-11-11T03:16:20.604702",
     "exception": false,
     "start_time": "2024-11-11T03:16:20.598565",
     "status": "completed"
    },
    "tags": []
   },
   "source": [
    "## Setup"
   ]
  },
  {
   "cell_type": "code",
   "execution_count": 1,
   "id": "20719dd9",
   "metadata": {
    "execution": {
     "iopub.execute_input": "2024-11-11T03:16:20.621608Z",
     "iopub.status.busy": "2024-11-11T03:16:20.620519Z",
     "iopub.status.idle": "2024-11-11T03:16:40.619090Z",
     "shell.execute_reply": "2024-11-11T03:16:40.618029Z"
    },
    "id": "f0Y-jx3M-9hR",
    "outputId": "48720355-8eb7-44e8-edce-7d37b26f582b",
    "papermill": {
     "duration": 20.010878,
     "end_time": "2024-11-11T03:16:40.622042",
     "exception": false,
     "start_time": "2024-11-11T03:16:20.611164",
     "status": "completed"
    },
    "tags": []
   },
   "outputs": [
    {
     "name": "stderr",
     "output_type": "stream",
     "text": [
      "C:\\Users\\zhent\\AppData\\Local\\Temp\\ipykernel_11136\\335773651.py:1: DeprecationWarning: \n",
      "Pyarrow will become a required dependency of pandas in the next major release of pandas (pandas 3.0),\n",
      "(to allow more performant data types, such as the Arrow string type, and better interoperability with other libraries)\n",
      "but was not found to be installed on your system.\n",
      "If this would cause problems for you,\n",
      "please provide us feedback at https://github.com/pandas-dev/pandas/issues/54466\n",
      "        \n",
      "  import pandas as pd\n"
     ]
    }
   ],
   "source": [
    "import pandas as pd\n",
    "import numpy as np\n",
    "from sklearn.linear_model import LogisticRegression\n",
    "from sklearn.preprocessing import StandardScaler\n",
    "from ucimlrepo import fetch_ucirepo"
   ]
  },
  {
   "cell_type": "markdown",
   "id": "0e9782f4",
   "metadata": {
    "id": "FXNMZ2h5qwxu",
    "papermill": {
     "duration": 0.007196,
     "end_time": "2024-11-11T03:16:40.636646",
     "exception": false,
     "start_time": "2024-11-11T03:16:40.629450",
     "status": "completed"
    },
    "tags": []
   },
   "source": [
    "- $y$: The target variable, representing the targeted outcome. In this Bank Marketing dataset, this outcome is **whether a customer will subscribe to a term deposit**. The values in $y$ are binary: 'yes' (1) or 'no' (0).\n",
    "\n",
    "- $X$: The feature matrix, containing the regressors. These features include both numerical and categorical variables such as age, job, marital status, and so forth, describing the characteristics of each customer.\n"
   ]
  },
  {
   "cell_type": "markdown",
   "id": "20b7f3b5",
   "metadata": {
    "id": "tjsR4pcoAtpJ",
    "papermill": {
     "duration": 0.006745,
     "end_time": "2024-11-11T03:16:40.650460",
     "exception": false,
     "start_time": "2024-11-11T03:16:40.643715",
     "status": "completed"
    },
    "tags": []
   },
   "source": [
    "## Data Preparation"
   ]
  },
  {
   "cell_type": "code",
   "execution_count": 2,
   "id": "a6c3539e",
   "metadata": {
    "execution": {
     "iopub.execute_input": "2024-11-11T03:16:40.666793Z",
     "iopub.status.busy": "2024-11-11T03:16:40.666197Z",
     "iopub.status.idle": "2024-11-11T03:16:41.813509Z",
     "shell.execute_reply": "2024-11-11T03:16:41.812043Z"
    },
    "id": "F1V1MjMomjjm",
    "outputId": "3de427fd-9520-46f2-de72-54df84bdb1c7",
    "papermill": {
     "duration": 1.15881,
     "end_time": "2024-11-11T03:16:41.816276",
     "exception": false,
     "start_time": "2024-11-11T03:16:40.657466",
     "status": "completed"
    },
    "tags": []
   },
   "outputs": [
    {
     "name": "stdout",
     "output_type": "stream",
     "text": [
      "First five rows of X:\n",
      "   age           job  marital  education default  balance housing loan  \\\n",
      "0   58    management  married   tertiary      no     2143     yes   no   \n",
      "1   44    technician   single  secondary      no       29     yes   no   \n",
      "2   33  entrepreneur  married  secondary      no        2     yes  yes   \n",
      "3   47   blue-collar  married        NaN      no     1506     yes   no   \n",
      "4   33           NaN   single        NaN      no        1      no   no   \n",
      "\n",
      "  contact  day_of_week month  duration  campaign  pdays  previous poutcome  \n",
      "0     NaN            5   may       261         1     -1         0      NaN  \n",
      "1     NaN            5   may       151         1     -1         0      NaN  \n",
      "2     NaN            5   may        76         1     -1         0      NaN  \n",
      "3     NaN            5   may        92         1     -1         0      NaN  \n",
      "4     NaN            5   may       198         1     -1         0      NaN  \n"
     ]
    }
   ],
   "source": [
    "# Fetch the Bank Marketing Dataset\n",
    "# the data is from UCI's machine learning repo\n",
    "bank_marketing = fetch_ucirepo(id=222)\n",
    "\n",
    "# Extract features (X) and target (y)\n",
    "X = bank_marketing.data.features\n",
    "y = bank_marketing.data.targets\n",
    "\n",
    "# Display the first five rows of X\n",
    "print(\"First five rows of X:\")\n",
    "print(X.head())"
   ]
  },
  {
   "cell_type": "markdown",
   "id": "5649c81e",
   "metadata": {
    "id": "zF9zao_1o_i6",
    "papermill": {
     "duration": 0.007164,
     "end_time": "2024-11-11T03:16:41.830843",
     "exception": false,
     "start_time": "2024-11-11T03:16:41.823679",
     "status": "completed"
    },
    "tags": []
   },
   "source": [
    "Data processing.\n",
    "\n",
    "Prepare $y$ and $X$."
   ]
  },
  {
   "cell_type": "code",
   "execution_count": 3,
   "id": "fe93b37b",
   "metadata": {
    "execution": {
     "iopub.execute_input": "2024-11-11T03:16:41.849669Z",
     "iopub.status.busy": "2024-11-11T03:16:41.849188Z",
     "iopub.status.idle": "2024-11-11T03:16:41.988363Z",
     "shell.execute_reply": "2024-11-11T03:16:41.987049Z"
    },
    "id": "w23nCvwpnCP8",
    "outputId": "485679b2-ebf8-49d0-951b-e342e6216ede",
    "papermill": {
     "duration": 0.152799,
     "end_time": "2024-11-11T03:16:41.991494",
     "exception": false,
     "start_time": "2024-11-11T03:16:41.838695",
     "status": "completed"
    },
    "tags": []
   },
   "outputs": [
    {
     "name": "stdout",
     "output_type": "stream",
     "text": [
      "First five rows of X:\n",
      "   age  balance  day_of_week  duration  campaign  pdays  previous  \\\n",
      "0   58     2143            5       261         1     -1         0   \n",
      "1   44       29            5       151         1     -1         0   \n",
      "2   33        2            5        76         1     -1         0   \n",
      "3   47     1506            5        92         1     -1         0   \n",
      "4   33        1            5       198         1     -1         0   \n",
      "\n",
      "   job_blue-collar  job_entrepreneur  job_housemaid  ...  month_jan  \\\n",
      "0            False             False          False  ...      False   \n",
      "1            False             False          False  ...      False   \n",
      "2            False              True          False  ...      False   \n",
      "3             True             False          False  ...      False   \n",
      "4            False             False          False  ...      False   \n",
      "\n",
      "   month_jul  month_jun  month_mar  month_may  month_nov  month_oct  \\\n",
      "0      False      False      False       True      False      False   \n",
      "1      False      False      False       True      False      False   \n",
      "2      False      False      False       True      False      False   \n",
      "3      False      False      False       True      False      False   \n",
      "4      False      False      False       True      False      False   \n",
      "\n",
      "   month_sep  poutcome_other  poutcome_success  \n",
      "0      False           False             False  \n",
      "1      False           False             False  \n",
      "2      False           False             False  \n",
      "3      False           False             False  \n",
      "4      False           False             False  \n",
      "\n",
      "[5 rows x 38 columns]\n",
      "\n",
      "Names of the regressors:\n",
      "['age', 'balance', 'day_of_week', 'duration', 'campaign', 'pdays', 'previous', 'job_blue-collar', 'job_entrepreneur', 'job_housemaid', 'job_management', 'job_retired', 'job_self-employed', 'job_services', 'job_student', 'job_technician', 'job_unemployed', 'marital_married', 'marital_single', 'education_secondary', 'education_tertiary', 'default_yes', 'housing_yes', 'loan_yes', 'contact_telephone', 'month_aug', 'month_dec', 'month_feb', 'month_jan', 'month_jul', 'month_jun', 'month_mar', 'month_may', 'month_nov', 'month_oct', 'month_sep', 'poutcome_other', 'poutcome_success']\n"
     ]
    }
   ],
   "source": [
    "# Ensure y is a Series by selecting the target column\n",
    "y = y['y'] if 'y' in y.columns else y.squeeze()\n",
    "\n",
    "# Convert the target variable to binary (1 for 'yes', 0 for 'no')\n",
    "y = y.apply(lambda x: 1 if x == 'yes' else 0)\n",
    "\n",
    "# Convert categorical variables in X to dummy variables\n",
    "X = pd.get_dummies(X, drop_first=True)\n",
    "\n",
    "# Display the first five rows of X\n",
    "print(\"First five rows of X:\")\n",
    "print(X.head())\n",
    "\n",
    "# Display the names of the regressors\n",
    "print(\"\\nNames of the regressors:\")\n",
    "print(X.columns.tolist())"
   ]
  },
  {
   "cell_type": "markdown",
   "id": "530ae90d",
   "metadata": {
    "id": "3gqQHT5PA6CF",
    "papermill": {
     "duration": 0.007204,
     "end_time": "2024-11-11T03:16:42.006265",
     "exception": false,
     "start_time": "2024-11-11T03:16:41.999061",
     "status": "completed"
    },
    "tags": []
   },
   "source": [
    "## Statsmodel"
   ]
  },
  {
   "cell_type": "code",
   "execution_count": 4,
   "id": "e0d2bd2e",
   "metadata": {
    "execution": {
     "iopub.execute_input": "2024-11-11T03:16:42.023204Z",
     "iopub.status.busy": "2024-11-11T03:16:42.022749Z",
     "iopub.status.idle": "2024-11-11T03:16:44.773254Z",
     "shell.execute_reply": "2024-11-11T03:16:44.772028Z"
    },
    "id": "MfoXjOuL29ZH",
    "outputId": "c576fb01-0682-4d81-da7d-025c77c697af",
    "papermill": {
     "duration": 2.763411,
     "end_time": "2024-11-11T03:16:44.777099",
     "exception": false,
     "start_time": "2024-11-11T03:16:42.013688",
     "status": "completed"
    },
    "tags": []
   },
   "outputs": [
    {
     "name": "stdout",
     "output_type": "stream",
     "text": [
      "Optimization terminated successfully.\n",
      "         Current function value: 0.244641\n",
      "         Iterations 8\n",
      "                           Logit Regression Results                           \n",
      "==============================================================================\n",
      "Dep. Variable:                      y   No. Observations:                45211\n",
      "Model:                          Logit   Df Residuals:                    45172\n",
      "Method:                           MLE   Df Model:                           38\n",
      "Date:                Wed, 19 Feb 2025   Pseudo R-squ.:                  0.3221\n",
      "Time:                        21:37:27   Log-Likelihood:                -11060.\n",
      "converged:                       True   LL-Null:                       -16315.\n",
      "Covariance Type:            nonrobust   LLR p-value:                     0.000\n",
      "=======================================================================================\n",
      "                          coef    std err          z      P>|z|      [0.025      0.975]\n",
      "---------------------------------------------------------------------------------------\n",
      "const                  -2.4638      0.156    -15.798      0.000      -2.769      -2.158\n",
      "age                    -0.0011      0.002     -0.502      0.616      -0.005       0.003\n",
      "balance              1.411e-05   5.11e-06      2.763      0.006     4.1e-06    2.41e-05\n",
      "day_of_week             0.0033      0.002      1.384      0.166      -0.001       0.008\n",
      "duration                0.0041   6.31e-05     65.021      0.000       0.004       0.004\n",
      "campaign               -0.0927      0.010     -9.266      0.000      -0.112      -0.073\n",
      "pdays                   0.0010      0.000      5.014      0.000       0.001       0.001\n",
      "previous                0.0164      0.008      1.964      0.049    3.62e-05       0.033\n",
      "job_blue-collar        -0.3490      0.070     -4.982      0.000      -0.486      -0.212\n",
      "job_entrepreneur       -0.3717      0.124     -3.007      0.003      -0.614      -0.129\n",
      "job_housemaid          -0.5208      0.133     -3.907      0.000      -0.782      -0.260\n",
      "job_management         -0.1439      0.071     -2.014      0.044      -0.284      -0.004\n",
      "job_retired             0.2853      0.094      3.045      0.002       0.102       0.469\n",
      "job_self-employed      -0.3086      0.111     -2.791      0.005      -0.525      -0.092\n",
      "job_services           -0.2268      0.082     -2.756      0.006      -0.388      -0.066\n",
      "job_student             0.4844      0.107      4.514      0.000       0.274       0.695\n",
      "job_technician         -0.1610      0.067     -2.399      0.016      -0.293      -0.029\n",
      "job_unemployed         -0.1660      0.110     -1.512      0.131      -0.381       0.049\n",
      "marital_married        -0.1765      0.058     -3.032      0.002      -0.291      -0.062\n",
      "marital_single          0.1255      0.066      1.890      0.059      -0.005       0.256\n",
      "education_secondary     0.1398      0.055      2.532      0.011       0.032       0.248\n",
      "education_tertiary      0.3745      0.066      5.691      0.000       0.246       0.504\n",
      "default_yes            -0.0764      0.161     -0.475      0.635      -0.392       0.239\n",
      "housing_yes            -0.7552      0.043    -17.419      0.000      -0.840      -0.670\n",
      "loan_yes               -0.4515      0.059     -7.602      0.000      -0.568      -0.335\n",
      "contact_telephone      -0.0167      0.075     -0.221      0.825      -0.165       0.131\n",
      "month_aug              -0.7019      0.078     -8.950      0.000      -0.856      -0.548\n",
      "month_dec               0.5725      0.178      3.219      0.001       0.224       0.921\n",
      "month_feb              -0.2440      0.089     -2.734      0.006      -0.419      -0.069\n",
      "month_jan              -1.2252      0.122    -10.031      0.000      -1.465      -0.986\n",
      "month_jul              -0.7934      0.077    -10.263      0.000      -0.945      -0.642\n",
      "month_jun              -0.6316      0.081     -7.799      0.000      -0.790      -0.473\n",
      "month_mar               1.5152      0.120     12.598      0.000       1.279       1.751\n",
      "month_may              -1.0111      0.069    -14.672      0.000      -1.146      -0.876\n",
      "month_nov              -0.8578      0.085    -10.147      0.000      -1.023      -0.692\n",
      "month_oct               0.7574      0.107      7.053      0.000       0.547       0.968\n",
      "month_sep               0.6723      0.118      5.689      0.000       0.441       0.904\n",
      "poutcome_other          0.3079      0.086      3.576      0.000       0.139       0.477\n",
      "poutcome_success        2.4349      0.070     34.542      0.000       2.297       2.573\n",
      "=======================================================================================\n"
     ]
    }
   ],
   "source": [
    "# Detailed Statistical Summary Using Statsmodels\n",
    "import statsmodels.api as sm\n",
    "\n",
    "# Add a constant to X for the intercept term\n",
    "X_with_constant = sm.add_constant(X)  # Adding intercept\n",
    "\n",
    "# Ensure all data in X_with_constant is numeric\n",
    "# Convert the DataFrame to numeric and explicitly cast as float\n",
    "X_with_constant = X_with_constant.apply(pd.to_numeric, errors='coerce').fillna(0).astype(float)\n",
    "\n",
    "# Ensure y is numeric by converting it to a Pandas Series and casting as float\n",
    "y = pd.Series(y).astype(float)  # Ensure y is numeric and compatible\n",
    "\n",
    "# Fit logistic regression using statsmodels\n",
    "model_sm = sm.Logit(y, X_with_constant)\n",
    "result = model_sm.fit()\n",
    "\n",
    "# Display the summary of coefficients, standard errors, t-statistics, and p-values\n",
    "print(result.summary())\n"
   ]
  },
  {
   "cell_type": "markdown",
   "id": "5303e0c2",
   "metadata": {
    "id": "jHSoLachBAl5",
    "papermill": {
     "duration": 0.015644,
     "end_time": "2024-11-11T03:16:44.808828",
     "exception": false,
     "start_time": "2024-11-11T03:16:44.793184",
     "status": "completed"
    },
    "tags": []
   },
   "source": [
    "## Sklearn"
   ]
  },
  {
   "cell_type": "code",
   "execution_count": 5,
   "id": "029a06a2",
   "metadata": {},
   "outputs": [
    {
     "name": "stdout",
     "output_type": "stream",
     "text": [
      "Intercept (original): [-2.47195882]\n",
      "Estimated Coefficients (original): [-9.73108981e-04  1.40964078e-05  3.36730733e-03  4.10148618e-03\n",
      " -9.17527487e-02  9.95652705e-04  1.62519516e-02 -3.55723372e-01\n",
      " -3.84209255e-01 -5.31792127e-01 -1.56355267e-01  2.75301765e-01\n",
      " -3.20069055e-01 -2.35377404e-01  4.79490997e-01 -1.70994414e-01\n",
      " -1.75416021e-01 -1.77461501e-01  1.24890271e-01  1.43797527e-01\n",
      "  3.81887722e-01 -7.71475858e-02 -7.53775099e-01 -4.53171445e-01\n",
      " -1.78620949e-02 -6.95758844e-01  5.79087415e-01 -2.37103152e-01\n",
      " -1.21777582e+00 -7.86229264e-01 -6.24502355e-01  1.52183861e+00\n",
      " -1.00546633e+00 -8.50307412e-01  7.64567430e-01  6.79691320e-01\n",
      "  3.07442584e-01  2.43273243e+00]\n",
      "Log-Likelihood (sklearn): -131807.51007666523\n"
     ]
    }
   ],
   "source": [
    "# Initialize the StandardScaler\n",
    "# it fails to work if the data is not scaled\n",
    "scaler = StandardScaler()\n",
    "\n",
    "# Fit the scaler on the feature matrix X and transform it\n",
    "X_scaled = scaler.fit_transform(X)\n",
    "\n",
    "# Fit logistic regression using sklearn on the scaled data\n",
    "model_scaled = LogisticRegression(max_iter=3000)\n",
    "model_scaled.fit(X_scaled, y)\n",
    "\n",
    "# Estimated coefficients\n",
    "coefficients_scaled = model_scaled.coef_.flatten()\n",
    "intercept_scaled = model_scaled.intercept_\n",
    "\n",
    "# Scale back the coefficients to the original units\n",
    "coefficients_original = coefficients_scaled / scaler.scale_\n",
    "intercept_original = intercept_scaled - np.sum(coefficients_scaled * scaler.mean_ / scaler.scale_)\n",
    "\n",
    "# Display the coefficients in original units\n",
    "print(\"Intercept (original):\", intercept_original)\n",
    "print(\"Estimated Coefficients (original):\", coefficients_original)\n",
    "# Calculate the log-likelihood of the fitted model\n",
    "log_likelihood_sklearn = model_scaled.predict_log_proba(X_scaled)[:, 1].sum()\n",
    "\n",
    "# Display the log-likelihood\n",
    "print(\"Log-Likelihood (sklearn):\", log_likelihood_sklearn)"
   ]
  },
  {
   "cell_type": "code",
   "execution_count": 6,
   "id": "1e59b5ca",
   "metadata": {},
   "outputs": [
    {
     "name": "stdout",
     "output_type": "stream",
     "text": [
      "Fitted Log-Likelihood: -11060.485513395308\n"
     ]
    }
   ],
   "source": [
    "from sklearn.metrics import log_loss\n",
    "\n",
    "# Predict probabilities\n",
    "y_prob = model_scaled.predict_proba(X_scaled)\n",
    "\n",
    "# Compute log-loss\n",
    "log_likelihood = -log_loss(y, y_prob) * len(y)\n",
    "# the default log_loss = -loglikelihood/len(y)\n",
    "\n",
    "print(\"Fitted Log-Likelihood:\", log_likelihood)"
   ]
  },
  {
   "cell_type": "markdown",
   "id": "7afaff00",
   "metadata": {},
   "source": [
    "See the documentation: [File1](https://scikit-learn.org/stable/modules/generated/sklearn.metrics.log_loss.html); [File2](https://scikit-learn.org/stable/modules/model_evaluation.html#log-loss). This is important for us to understand the underlying mechanism."
   ]
  },
  {
   "cell_type": "markdown",
   "id": "c57d48d2",
   "metadata": {},
   "source": []
  }
 ],
 "metadata": {
  "colab": {
   "provenance": []
  },
  "kaggle": {
   "accelerator": "none",
   "dataSources": [],
   "dockerImageVersionId": 30786,
   "isGpuEnabled": false,
   "isInternetEnabled": true,
   "language": "python",
   "sourceType": "notebook"
  },
  "kernelspec": {
   "display_name": "pytorch",
   "language": "python",
   "name": "python3"
  },
  "language_info": {
   "codemirror_mode": {
    "name": "ipython",
    "version": 3
   },
   "file_extension": ".py",
   "mimetype": "text/x-python",
   "name": "python",
   "nbconvert_exporter": "python",
   "pygments_lexer": "ipython3",
   "version": "3.11.5"
  },
  "papermill": {
   "default_parameters": {},
   "duration": 30.347655,
   "end_time": "2024-11-11T03:16:47.071325",
   "environment_variables": {},
   "exception": null,
   "input_path": "__notebook__.ipynb",
   "output_path": "__notebook__.ipynb",
   "parameters": {},
   "start_time": "2024-11-11T03:16:16.723670",
   "version": "2.6.0"
  }
 },
 "nbformat": 4,
 "nbformat_minor": 5
}
