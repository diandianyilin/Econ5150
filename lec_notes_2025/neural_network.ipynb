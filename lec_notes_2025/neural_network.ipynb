{
 "cells": [
  {
   "cell_type": "markdown",
   "id": "7b8f817c",
   "metadata": {
    "slideshow": {
     "slide_type": "slide"
    }
   },
   "source": [
    "# ECON 5150: Neural Network\n",
    "\n",
    "Zhentao Shi\n",
    "\n",
    "<!-- code is tested on SCRP -->"
   ]
  },
  {
   "cell_type": "markdown",
   "id": "1006e109",
   "metadata": {
    "slideshow": {
     "slide_type": "slide"
    }
   },
   "source": [
    "## Gradient Descent\n",
    "\n",
    "* Completely ignore the Hessian. Replace it by the identity matrix.\n",
    "\n",
    "\n",
    "$$\n",
    "\\theta_{t+1} = \\theta_{t} -  \\alpha_t \\cdot  s(\\theta_t)\n",
    "$$\n",
    "\n",
    "where $\\alpha_t > 0$ is the **learning rate**.\n",
    "\n",
    "* Linear rate of convergence.\n",
    "* Less costly in computation. Better for big data."
   ]
  },
  {
   "cell_type": "markdown",
   "id": "917a2628",
   "metadata": {
    "slideshow": {
     "slide_type": "subslide"
    }
   },
   "source": [
    "* **Motivation**: Talyor expansion,\n",
    "\n",
    "$$\n",
    "f(\\theta_{t+1}) = f(\\theta_t + a_t \\cdot p_t ) \\approx f(\\theta_t) + a_t \\cdot  p_t' s(\\theta_t),\n",
    "$$\n",
    "\n",
    "* If in each step we want the value of the criterion function\n",
    "$f(x)$ to decrease, we need $ p_t' s(\\theta_t) \\leq 0$.\n",
    "\n",
    "* A simple choice is $p_t =-s(\\theta_t)$, which is called the deepest decent.\n",
    "\n",
    "* The learning rate is a tuning parameter. \n",
    "  * In practice, just choose a small number, say $0.01$ or $0.001$.\n",
    "  * A small learning rate makes a small step ahead in each iteration\n"
   ]
  },
  {
   "cell_type": "markdown",
   "id": "82725b25",
   "metadata": {
    "slideshow": {
     "slide_type": "slide"
    }
   },
   "source": [
    "\n",
    "## Gradient Descent in Neural Network\n",
    "\n"
   ]
  },
  {
   "cell_type": "markdown",
   "id": "36790f30",
   "metadata": {
    "slideshow": {
     "slide_type": "fragment"
    }
   },
   "source": [
    "* The number of `epochs` is the maximum number of iterations\n",
    "* Conventional implementation usually specifies a condition to test convergence. If satisfied, then break out of the loop\n",
    "* Machine learning monitors the loss function along the epochs"
   ]
  },
  {
   "cell_type": "code",
   "execution_count": 10,
   "id": "d2922aa5",
   "metadata": {
    "slideshow": {
     "slide_type": "slide"
    }
   },
   "outputs": [
    {
     "name": "stdout",
     "output_type": "stream",
     "text": [
      "Epoch [100/1000], Loss: 6.0970\n",
      "Epoch [200/1000], Loss: 2.3398\n",
      "Epoch [300/1000], Loss: 1.3544\n",
      "Epoch [400/1000], Loss: 0.9979\n",
      "Epoch [500/1000], Loss: 0.8496\n",
      "Epoch [600/1000], Loss: 0.7819\n",
      "Epoch [700/1000], Loss: 0.7476\n",
      "Epoch [800/1000], Loss: 0.7273\n",
      "Epoch [900/1000], Loss: 0.7124\n",
      "Epoch [1000/1000], Loss: 0.6995\n",
      "linear.weight tensor([[0.1707]])\n",
      "linear.bias tensor([-0.0580])\n"
     ]
    }
   ],
   "source": [
    "import torch\n",
    "import torch.optim as optim\n",
    "\n",
    "# Remove the first column of X and convert to PyTorch tensor\n",
    "X_tensor = torch.tensor(X.iloc[:, 1].values, dtype=torch.float32).view(-1, 1)\n",
    "y_tensor = torch.tensor(y.values, dtype=torch.float32)\n",
    "\n",
    "# Define the model\n",
    "class PoissonRegressionModel(torch.nn.Module):\n",
    "    def __init__(self):\n",
    "        super(PoissonRegressionModel, self).__init__()\n",
    "        self.linear = torch.nn.Linear(X_tensor.shape[1], 1)\n",
    "\n",
    "    def forward(self, x):\n",
    "        return torch.exp(self.linear(x))\n",
    "    # y_hat = exp(b0 + b1 * x)\n",
    "\n",
    "# Instantiate the model\n",
    "model = PoissonRegressionModel()\n",
    "\n",
    "# Define the loss function (negative log-likelihood)\n",
    "def poisson_loss(y_hat, y_true):\n",
    "    return torch.mean(y_hat - y_true * torch.log(y_hat))\n",
    "\n",
    "# Define the optimizer\n",
    "optimizer = optim.Adam(model.parameters(), lr=0.01)\n",
    "\n",
    "# Training loop\n",
    "num_epochs = 1000 \n",
    "for epoch in range(num_epochs):\n",
    "    model.train()\n",
    "    optimizer.zero_grad()\n",
    "    y_hat = model(X_tensor).squeeze()\n",
    "    loss = poisson_loss(y_hat, y_tensor)\n",
    "    loss.backward()\n",
    "    optimizer.step() # Perform a single optimization step to update parameter.\n",
    "\n",
    "    if (epoch + 1) % 100 == 0:\n",
    "        print(f'Epoch [{epoch + 1}/{num_epochs}], Loss: {loss.item():.4f}')\n",
    "\n",
    "# Print the optimized parameters\n",
    "for name, param in model.named_parameters():\n",
    "    if param.requires_grad:\n",
    "        print(name, param.data)"
   ]
  },
  {
   "cell_type": "code",
   "execution_count": 11,
   "id": "f792c360",
   "metadata": {
    "slideshow": {
     "slide_type": "subslide"
    }
   },
   "outputs": [
    {
     "data": {
      "text/plain": [
       "460.9989150762558"
      ]
     },
     "execution_count": 11,
     "metadata": {},
     "output_type": "execute_result"
    }
   ],
   "source": [
    "len(y_tensor) * loss.item()"
   ]
  },
  {
   "cell_type": "markdown",
   "id": "15cc3d03",
   "metadata": {
    "slideshow": {
     "slide_type": "slide"
    }
   },
   "source": [
    "### Stochastic Gradient Descent\n",
    "\n",
    "* When the sample size is huge and the number of parameters is large,\n",
    "Stochastic gradient descent (SGD) uses a small batch of the sample\n",
    "to evaluate the gradient in each iteration. \n",
    "\n",
    "* SGD involves tuning parameters: the batch size and the learning rate. "
   ]
  },
  {
   "cell_type": "code",
   "execution_count": 12,
   "id": "2a3adbc1",
   "metadata": {
    "slideshow": {
     "slide_type": "slide"
    }
   },
   "outputs": [
    {
     "name": "stdout",
     "output_type": "stream",
     "text": [
      "Epoch [100/1000], Loss: 0.5819\n",
      "Epoch [200/1000], Loss: 0.4821\n",
      "Epoch [300/1000], Loss: 0.7783\n",
      "Epoch [400/1000], Loss: 0.1700\n",
      "Epoch [500/1000], Loss: 0.4947\n",
      "Epoch [600/1000], Loss: 0.7954\n",
      "Epoch [700/1000], Loss: 1.4848\n",
      "Epoch [800/1000], Loss: 1.4670\n",
      "Epoch [900/1000], Loss: 0.7220\n",
      "Epoch [1000/1000], Loss: 0.3634\n",
      "linear.weight tensor([[-0.1004]])\n",
      "linear.bias tensor([1.1857])\n"
     ]
    }
   ],
   "source": [
    "from torch.utils.data import DataLoader, TensorDataset\n",
    "\n",
    "# Create a dataset and data loader\n",
    "dataset = TensorDataset(X_tensor, y_tensor)\n",
    "batch_size = 100\n",
    "data_loader = DataLoader(dataset, batch_size=batch_size, shuffle=True)\n",
    "\n",
    "# Training loop\n",
    "num_epochs = 1000\n",
    "for epoch in range(num_epochs):\n",
    "    model.train()\n",
    "    for batch_X, batch_y in data_loader:\n",
    "        optimizer.zero_grad()\n",
    "        y_hat = model(batch_X).squeeze()\n",
    "        loss = poisson_loss(y_hat, batch_y)\n",
    "        loss.backward()\n",
    "        optimizer.step()\n",
    "\n",
    "    if (epoch + 1) % 100 == 0:\n",
    "        print(f'Epoch [{epoch + 1}/{num_epochs}], Loss: {loss.item():.4f}')\n",
    "\n",
    "# Print the optimized parameters\n",
    "for name, param in model.named_parameters():\n",
    "    if param.requires_grad:\n",
    "        print(name, param.data)"
   ]
  },
  {
   "cell_type": "code",
   "execution_count": null,
   "id": "7cbfed16",
   "metadata": {},
   "outputs": [],
   "source": []
  }
 ],
 "metadata": {
  "celltoolbar": "Slideshow",
  "kernelspec": {
   "display_name": "base",
   "language": "python",
   "name": "python3"
  },
  "language_info": {
   "codemirror_mode": {
    "name": "ipython",
    "version": 3
   },
   "file_extension": ".py",
   "mimetype": "text/x-python",
   "name": "python",
   "nbconvert_exporter": "python",
   "pygments_lexer": "ipython3",
   "version": "3.12.7"
  },
  "rise": {
   "enable_chalkboard": true,
   "scroll": true,
   "theme": "serif"
  }
 },
 "nbformat": 4,
 "nbformat_minor": 5
}
