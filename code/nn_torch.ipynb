{
 "cells": [
  {
   "cell_type": "code",
   "execution_count": 1,
   "metadata": {},
   "outputs": [],
   "source": [
    "import torch\n",
    "import torch.nn as nn\n",
    "import torch.optim as optim\n"
   ]
  },
  {
   "cell_type": "markdown",
   "metadata": {},
   "source": [
    "This code defines a class called `PoissonRegression` which is a subclass of the `nn.Module` class from the PyTorch library. The purpose of this class is to implement a simple Poisson regression model.\n",
    "\n",
    "In the `__init__` method (the constructor), the code takes an `input_dim` parameter, which represents the number of features in the input data. It then calls the `__init__` method of the parent class `nn.Module` using `super(PoissonRegression, self).__init__()` to initialize the parent class. After that, it creates a linear layer using `self.linear = nn.Linear(input_dim, 1)`. This linear layer maps the input data to a single output value.\n",
    "\n",
    "The `forward` method is the main computation of the model. It takes an input `x` and applies the linear transformation to it using `self.linear(x)`. The result is then passed through the exponential function `torch.exp()` to ensure that the output is positive. Finally, the result is returned.\n",
    "\n",
    "To summarize, this code defines a Poisson regression model using a single linear layer. The `forward` method performs the forward pass of the model, transforming the input data and returning the predicted output."
   ]
  },
  {
   "cell_type": "code",
   "execution_count": 2,
   "metadata": {},
   "outputs": [],
   "source": [
    "class PoissonRegression(nn.Module):\n",
    "    def __init__(self, input_dim):\n",
    "        super(PoissonRegression, self).__init__()\n",
    "        self.linear = nn.Linear(input_dim, 1)\n",
    "\n",
    "    def forward(self, x):\n",
    "        return torch.exp(self.linear(x))\n"
   ]
  },
  {
   "cell_type": "markdown",
   "metadata": {},
   "source": [
    "generate data"
   ]
  },
  {
   "cell_type": "code",
   "execution_count": 3,
   "metadata": {},
   "outputs": [],
   "source": [
    "import numpy as np\n",
    "import random\n",
    "\n",
    "# Generate the artificial data\n",
    "\n",
    "n_total = int(20000)\n",
    "K = 100\n",
    "X = np.column_stack((np.ones(n_total), np.random.rand(n_total * (K - 1)).reshape(n_total, K - 1)))\n",
    "b0 = 1.0 * np.ones(K) / K\n",
    "y = np.random.poisson(np.exp(X.dot(b0)))\n"
   ]
  },
  {
   "cell_type": "code",
   "execution_count": 4,
   "metadata": {},
   "outputs": [],
   "source": [
    "# Split the data into train and test sets\n",
    "n = len(y)\n",
    "test_indices = random.sample(range(n), round(0.2 * n))\n",
    "\n",
    "y_test = y[test_indices]\n",
    "X_test = X[test_indices, :]\n",
    "\n",
    "y_train = np.delete(y, test_indices)\n",
    "X_train = np.delete(X, test_indices, axis=0)\n",
    "\n",
    "# convert X_train into a pytorch tensor\n",
    "X_train = torch.from_numpy(X_train).float()\n",
    "y_train = torch.from_numpy(y_train).float()"
   ]
  },
  {
   "cell_type": "code",
   "execution_count": 7,
   "metadata": {},
   "outputs": [],
   "source": [
    "model = PoissonRegression(K)\n"
   ]
  },
  {
   "cell_type": "code",
   "execution_count": 6,
   "metadata": {},
   "outputs": [],
   "source": [
    "def poisson_nll_loss(y_pred, y_true):\n",
    "    return torch.mean(y_pred - y_true * torch.log(y_pred)) # this is the correct formula. \n",
    "# y_pred is the linear index, y_true is the true value.\n",
    "\n"
   ]
  },
  {
   "cell_type": "code",
   "execution_count": 9,
   "metadata": {},
   "outputs": [
    {
     "name": "stdout",
     "output_type": "stream",
     "text": [
      "Epoch 1, Loss: 0.9684693813323975\n",
      "Epoch 2, Loss: 0.860050618648529\n",
      "Epoch 3, Loss: 0.8407831788063049\n",
      "Epoch 4, Loss: 0.8360377550125122\n",
      "Epoch 5, Loss: 0.8347012400627136\n",
      "Epoch 6, Loss: 0.8342761397361755\n",
      "Epoch 7, Loss: 0.8341097235679626\n",
      "Epoch 8, Loss: 0.834019124507904\n",
      "Epoch 9, Loss: 0.8339512944221497\n",
      "Epoch 10, Loss: 0.8338902592658997\n",
      "Epoch 11, Loss: 0.8338314890861511\n",
      "Epoch 12, Loss: 0.8337734341621399\n",
      "Epoch 13, Loss: 0.8337157964706421\n",
      "Epoch 14, Loss: 0.8336582779884338\n",
      "Epoch 15, Loss: 0.8336010575294495\n",
      "Epoch 16, Loss: 0.8335438966751099\n",
      "Epoch 17, Loss: 0.8334869742393494\n",
      "Epoch 18, Loss: 0.8334301114082336\n",
      "Epoch 19, Loss: 0.833373486995697\n",
      "Epoch 20, Loss: 0.83331698179245\n",
      "Epoch 21, Loss: 0.833260715007782\n",
      "Epoch 22, Loss: 0.8332045078277588\n",
      "Epoch 23, Loss: 0.8331485390663147\n",
      "Epoch 24, Loss: 0.8330925703048706\n",
      "Epoch 25, Loss: 0.8330370187759399\n",
      "Epoch 26, Loss: 0.832981526851654\n",
      "Epoch 27, Loss: 0.8329259753227234\n",
      "Epoch 28, Loss: 0.8328708410263062\n",
      "Epoch 29, Loss: 0.8328157067298889\n",
      "Epoch 30, Loss: 0.8327608108520508\n",
      "Epoch 31, Loss: 0.8327060341835022\n",
      "Epoch 32, Loss: 0.8326514363288879\n",
      "Epoch 33, Loss: 0.8325969576835632\n",
      "Epoch 34, Loss: 0.8325425982475281\n",
      "Epoch 35, Loss: 0.832488477230072\n",
      "Epoch 36, Loss: 0.8324345350265503\n",
      "Epoch 37, Loss: 0.8323806524276733\n",
      "Epoch 38, Loss: 0.8323270082473755\n",
      "Epoch 39, Loss: 0.8322734236717224\n",
      "Epoch 40, Loss: 0.8322200179100037\n",
      "Epoch 41, Loss: 0.8321667313575745\n",
      "Epoch 42, Loss: 0.8321136832237244\n",
      "Epoch 43, Loss: 0.8320607542991638\n",
      "Epoch 44, Loss: 0.8320079445838928\n",
      "Epoch 45, Loss: 0.8319553732872009\n",
      "Epoch 46, Loss: 0.8319027423858643\n",
      "Epoch 47, Loss: 0.8318503499031067\n",
      "Epoch 48, Loss: 0.8317981362342834\n",
      "Epoch 49, Loss: 0.8317461013793945\n",
      "Epoch 50, Loss: 0.8316941857337952\n",
      "Epoch 51, Loss: 0.8316423892974854\n",
      "Epoch 52, Loss: 0.8315907716751099\n",
      "Epoch 53, Loss: 0.8315392732620239\n",
      "Epoch 54, Loss: 0.8314879536628723\n",
      "Epoch 55, Loss: 0.8314367532730103\n",
      "Epoch 56, Loss: 0.8313856720924377\n",
      "Epoch 57, Loss: 0.8313347697257996\n",
      "Epoch 58, Loss: 0.8312839865684509\n",
      "Epoch 59, Loss: 0.8312333226203918\n",
      "Epoch 60, Loss: 0.8311828970909119\n",
      "Epoch 61, Loss: 0.8311324715614319\n",
      "Epoch 62, Loss: 0.8310824036598206\n",
      "Epoch 63, Loss: 0.8310322761535645\n",
      "Epoch 64, Loss: 0.8309823274612427\n",
      "Epoch 65, Loss: 0.8309325575828552\n",
      "Epoch 66, Loss: 0.8308828473091125\n",
      "Epoch 67, Loss: 0.830833375453949\n",
      "Epoch 68, Loss: 0.8307840824127197\n",
      "Epoch 69, Loss: 0.8307347893714905\n",
      "Epoch 70, Loss: 0.8306857347488403\n",
      "Epoch 71, Loss: 0.830636739730835\n",
      "Epoch 72, Loss: 0.8305879235267639\n",
      "Epoch 73, Loss: 0.8305392265319824\n",
      "Epoch 74, Loss: 0.8304907083511353\n",
      "Epoch 75, Loss: 0.8304423689842224\n",
      "Epoch 76, Loss: 0.8303940296173096\n",
      "Epoch 77, Loss: 0.8303459286689758\n",
      "Epoch 78, Loss: 0.8302979469299316\n",
      "Epoch 79, Loss: 0.8302501440048218\n",
      "Epoch 80, Loss: 0.8302023410797119\n",
      "Epoch 81, Loss: 0.8301545977592468\n",
      "Epoch 82, Loss: 0.8301072716712952\n",
      "Epoch 83, Loss: 0.8300599455833435\n",
      "Epoch 84, Loss: 0.8300126194953918\n",
      "Epoch 85, Loss: 0.8299656510353088\n",
      "Epoch 86, Loss: 0.8299187421798706\n",
      "Epoch 87, Loss: 0.8298718929290771\n",
      "Epoch 88, Loss: 0.829825222492218\n",
      "Epoch 89, Loss: 0.8297786116600037\n",
      "Epoch 90, Loss: 0.8297322392463684\n",
      "Epoch 91, Loss: 0.8296859264373779\n",
      "Epoch 92, Loss: 0.8296397924423218\n",
      "Epoch 93, Loss: 0.8295938372612\n",
      "Epoch 94, Loss: 0.8295478820800781\n",
      "Epoch 95, Loss: 0.8295021057128906\n",
      "Epoch 96, Loss: 0.8294565677642822\n",
      "Epoch 97, Loss: 0.829410970211029\n",
      "Epoch 98, Loss: 0.8293655514717102\n",
      "Epoch 99, Loss: 0.8293203711509705\n",
      "Epoch 100, Loss: 0.8292751312255859\n"
     ]
    }
   ],
   "source": [
    "optimizer = optim.SGD(model.parameters(), lr=0.01)\n",
    "\n",
    "for epoch in range(100):  # number of epochs\n",
    "    optimizer.zero_grad()\n",
    "    y_pred = model(X_train) # the liner index\n",
    "    loss = poisson_nll_loss(y_pred, y_train)\n",
    "    loss.backward()\n",
    "    optimizer.step()\n",
    "\n",
    "    if epoch % 1 == 0:  # print every 100 epochs\n",
    "        print(f'Epoch {epoch+1}, Loss: {loss.item()}')\n"
   ]
  },
  {
   "cell_type": "code",
   "execution_count": 10,
   "metadata": {},
   "outputs": [
    {
     "name": "stdout",
     "output_type": "stream",
     "text": [
      "OrderedDict([('linear.weight', tensor([[ 0.0834,  0.0562,  0.0690,  0.0345, -0.0198,  0.0300,  0.0692,  0.0230,\n",
      "         -0.0527, -0.0084, -0.0546, -0.0024, -0.0549, -0.0561, -0.0388,  0.0627,\n",
      "         -0.0624,  0.0103, -0.0135,  0.0722, -0.0324, -0.0478,  0.0456, -0.0374,\n",
      "         -0.0418,  0.0597, -0.0756, -0.0262,  0.0471, -0.0103, -0.0398,  0.0803,\n",
      "          0.0713, -0.0195, -0.0448, -0.0580,  0.0692,  0.0129, -0.0729,  0.0359,\n",
      "          0.0660, -0.0358,  0.0552,  0.0549, -0.0550,  0.0650,  0.0769, -0.0382,\n",
      "          0.0744,  0.0161, -0.0114,  0.0550,  0.0430, -0.0277, -0.0782, -0.0500,\n",
      "         -0.0491,  0.0586,  0.0573, -0.0520,  0.0633, -0.0037, -0.0186,  0.0366,\n",
      "          0.0380,  0.0266,  0.0156,  0.0066,  0.0264,  0.0687,  0.0509,  0.0093,\n",
      "          0.0486, -0.0131, -0.0198, -0.0573, -0.0122,  0.0455, -0.0352, -0.0093,\n",
      "          0.0741, -0.0682, -0.0738, -0.0006, -0.0688, -0.0211,  0.0722,  0.0141,\n",
      "          0.0251,  0.0700,  0.0525,  0.0202, -0.0202,  0.0702, -0.0528, -0.0187,\n",
      "          0.0294,  0.0684,  0.0703,  0.0755]])), ('linear.bias', tensor([0.0260]))])\n"
     ]
    }
   ],
   "source": [
    "# print the coefficients of the model\n",
    "\n",
    "# print(model.state_dict()['linear.weight'])\n",
    "print(model.state_dict())"
   ]
  },
  {
   "cell_type": "code",
   "execution_count": null,
   "metadata": {},
   "outputs": [],
   "source": []
  }
 ],
 "metadata": {
  "kernelspec": {
   "display_name": "tf_env",
   "language": "python",
   "name": "python3"
  },
  "language_info": {
   "codemirror_mode": {
    "name": "ipython",
    "version": 3
   },
   "file_extension": ".py",
   "mimetype": "text/x-python",
   "name": "python",
   "nbconvert_exporter": "python",
   "pygments_lexer": "ipython3",
   "version": "3.11.5"
  },
  "orig_nbformat": 4
 },
 "nbformat": 4,
 "nbformat_minor": 2
}
